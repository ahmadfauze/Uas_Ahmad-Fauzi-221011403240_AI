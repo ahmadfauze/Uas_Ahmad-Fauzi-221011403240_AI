{
  "nbformat": 4,
  "nbformat_minor": 0,
  "metadata": {
    "colab": {
      "provenance": [],
      "toc_visible": true,
      "authorship_tag": "ABX9TyNL5LgSLi24gms2WNnXzFLO",
      "include_colab_link": true
    },
    "kernelspec": {
      "name": "python3",
      "display_name": "Python 3"
    },
    "language_info": {
      "name": "python"
    }
  },
  "cells": [
    {
      "cell_type": "markdown",
      "metadata": {
        "id": "view-in-github",
        "colab_type": "text"
      },
      "source": [
        "<a href=\"https://colab.research.google.com/github/ahmadfauze/Uas_Ahmad-Fauzi-221011403240_AI/blob/main/Uas_Ahmad_Fauzi_221011403240.ipynb\" target=\"_parent\"><img src=\"https://colab.research.google.com/assets/colab-badge.svg\" alt=\"Open In Colab\"/></a>"
      ]
    },
    {
      "cell_type": "code",
      "source": [
        "!pip install scikit-fuzzy"
      ],
      "metadata": {
        "colab": {
          "base_uri": "https://localhost:8080/"
        },
        "id": "x-LwSSun1Dnv",
        "outputId": "4f018bab-2d69-48c0-dee6-1815bc3d1de4"
      },
      "execution_count": null,
      "outputs": [
        {
          "output_type": "stream",
          "name": "stdout",
          "text": [
            "Collecting scikit-fuzzy\n",
            "  Downloading scikit_fuzzy-0.5.0-py2.py3-none-any.whl.metadata (2.6 kB)\n",
            "Downloading scikit_fuzzy-0.5.0-py2.py3-none-any.whl (920 kB)\n",
            "\u001b[2K   \u001b[90m━━━━━━━━━━━━━━━━━━━━━━━━━━━━━━━━━━━━━━━━\u001b[0m \u001b[32m920.8/920.8 kB\u001b[0m \u001b[31m10.3 MB/s\u001b[0m eta \u001b[36m0:00:00\u001b[0m\n",
            "\u001b[?25hInstalling collected packages: scikit-fuzzy\n",
            "Successfully installed scikit-fuzzy-0.5.0\n"
          ]
        }
      ]
    },
    {
      "cell_type": "code",
      "source": [],
      "metadata": {
        "id": "zCKPqggQ1WQB"
      },
      "execution_count": null,
      "outputs": []
    },
    {
      "cell_type": "markdown",
      "source": [
        "\n",
        "# **Nama : Ahmad Fauzi**\n",
        "# **Nim   221011403240**"
      ],
      "metadata": {
        "id": "6OsiY_hkX7gH"
      }
    },
    {
      "cell_type": "markdown",
      "source": [
        "# **Bagian Baru**"
      ],
      "metadata": {
        "id": "Z2aGB8NjeMD9"
      }
    },
    {
      "cell_type": "markdown",
      "source": [
        "# **1. Sistem Penentuan Diskon di Toko Online**"
      ],
      "metadata": {
        "id": "Am56b-YgeNF0"
      }
    },
    {
      "cell_type": "code",
      "source": [
        "import numpy as np\n",
        "import skfuzzy as fuzz\n",
        "from skfuzzy import control as ctrl\n",
        "\n",
        "# Mendefinisikan variabel input dan output\n",
        "jumlah_pembelian = ctrl.Antecedent(np.arange(0, 11, 1), 'jumlah_pembelian')\n",
        "frekuensi_pelanggan = ctrl.Antecedent(np.arange(0, 11, 1), 'frekuensi_pelanggan')\n",
        "diskon = ctrl.Consequent(np.arange(0, 51, 1), 'diskon')\n",
        "\n",
        "# Mendefinisikan himpunan fuzzy\n",
        "jumlah_pembelian['sedikit'] = fuzz.trimf(jumlah_pembelian.universe, [0, 0, 5])\n",
        "jumlah_pembelian['sedang'] = fuzz.trimf(jumlah_pembelian.universe, [3, 5, 7])\n",
        "jumlah_pembelian['banyak'] = fuzz.trimf(jumlah_pembelian.universe, [5, 10, 10])\n",
        "\n",
        "frekuensi_pelanggan['jarang'] = fuzz.trimf(frekuensi_pelanggan.universe, [0, 0, 5])\n",
        "frekuensi_pelanggan['sering'] = fuzz.trimf(frekuensi_pelanggan.universe, [0, 5, 10])\n",
        "frekuensi_pelanggan['sangat_sering'] = fuzz.trimf(frekuensi_pelanggan.universe, [5, 10, 10])\n",
        "\n",
        "diskon['kecil'] = fuzz.trimf(diskon.universe, [0, 0, 25])\n",
        "diskon['sedang'] = fuzz.trimf(diskon.universe, [0, 25, 50])\n",
        "diskon['besar'] = fuzz.trimf(diskon.universe, [25, 50, 50])\n",
        "\n",
        "# Mendefinisikan aturan fuzzy\n",
        "rule1 = ctrl.Rule(jumlah_pembelian['sedikit'] & frekuensi_pelanggan['jarang'], diskon['kecil'])\n",
        "rule2 = ctrl.Rule(jumlah_pembelian['sedikit'] & frekuensi_pelanggan['sering'], diskon['sedang'])\n",
        "rule3 = ctrl.Rule(jumlah_pembelian['sedikit'] & frekuensi_pelanggan['sangat_sering'], diskon['besar'])\n",
        "rule4 = ctrl.Rule(jumlah_pembelian['sedang'] & frekuensi_pelanggan['jarang'], diskon['sedang'])\n",
        "rule5 = ctrl.Rule(jumlah_pembelian['sedang'] & frekuensi_pelanggan['sering'], diskon['besar'])\n",
        "rule6 = ctrl.Rule(jumlah_pembelian['sedang'] & frekuensi_pelanggan['sangat_sering'], diskon['besar'])\n",
        "rule7 = ctrl.Rule(jumlah_pembelian['banyak'] & frekuensi_pelanggan['jarang'], diskon['besar'])\n",
        "rule8 = ctrl.Rule(jumlah_pembelian['banyak'] & frekuensi_pelanggan['sering'], diskon['besar'])\n",
        "rule9 = ctrl.Rule(jumlah_pembelian['banyak'] & frekuensi_pelanggan['sangat_sering'], diskon['besar'])\n",
        "\n",
        "# Membuat sistem kontrol fuzzy\n",
        "diskon_ctrl = ctrl.ControlSystem([rule1, rule2, rule3, rule4, rule5, rule6, rule7, rule8, rule9])\n",
        "diskon_simulasi = ctrl.ControlSystemSimulation(diskon_ctrl)\n",
        "\n",
        "# Contoh data mahasiswa yang diberikan\n",
        "data_mahasiswa = [\n",
        "    {'nama': 'Zein Albi Gunawan', 'kelas': '05TPLE018', 'NIM': '221011403182', 'tugas': 8, 'waktuBelajar': 4, 'waktuTidur': 3},\n",
        "    {'nama': 'Yoga Febi Atmaja', 'kelas': '05TPLE018', 'NIM': '221011403036', 'tugas': 6, 'waktuBelajar': 7, 'waktuTidur': 3},\n",
        "    {'nama': 'Najwan Hidayatullah', 'kelas': '05TPLE018', 'NIM': '221011402857', 'tugas': 3, 'waktuBelajar': 5, 'waktuTidur': 6},\n",
        "    {'nama': 'Thoty Ariesandes', 'kelas': '05TPLE018', 'NIM': '221011403066', 'tugas': 9, 'waktuBelajar': 3, 'waktuTidur': 2},\n",
        "    {'nama': 'Ahmad Fauzi', 'kelas': '05TPLE018', 'NIM': '221011403240', 'tugas': 5, 'waktuBelajar': 5, 'waktuTidur': 5},\n",
        "]\n",
        "\n",
        "# Menerapkan data mahasiswa ke sistem kontrol fuzzy\n",
        "for mahasiswa in data_mahasiswa:\n",
        "    diskon_simulasi.input['jumlah_pembelian'] = mahasiswa['tugas']\n",
        "    diskon_simulasi.input['frekuensi_pelanggan'] = mahasiswa['waktuBelajar']\n",
        "    diskon_simulasi.compute()\n",
        "    print(f\"{mahasiswa['nama']} (NIM: {mahasiswa['NIM']}), Diskon yang Diterima: {diskon_simulasi.output['diskon']}%\")\n",
        "\n",
        "\n"
      ],
      "metadata": {
        "colab": {
          "base_uri": "https://localhost:8080/"
        },
        "id": "HswWxtKY1XCW",
        "outputId": "876f5551-02f0-46ff-814f-60042b3a6a5d"
      },
      "execution_count": null,
      "outputs": [
        {
          "output_type": "stream",
          "name": "stdout",
          "text": [
            "Zein Albi Gunawan (NIM: 221011403182), Diskon yang Diterima: 40.71428571428573%\n",
            "Yoga Febi Atmaja (NIM: 221011403036), Diskon yang Diterima: 40.27777777777778%\n",
            "Najwan Hidayatullah (NIM: 221011402857), Diskon yang Diterima: 24.999999999999982%\n",
            "Thoty Ariesandes (NIM: 221011403066), Diskon yang Diterima: 40.71428571428573%\n",
            "Ahmad Fauzi (NIM: 221011403240), Diskon yang Diterima: 41.66666666666667%\n"
          ]
        }
      ]
    },
    {
      "cell_type": "markdown",
      "source": [
        "Sistem Penentuan Diskon di Toko Online Menggunakan Logika Fuzzy\n"
      ],
      "metadata": {
        "id": "d5Ac_5QE3Yp2"
      }
    },
    {
      "cell_type": "markdown",
      "source": [
        "- Tujuan: Menentukan tingkat diskon berdasarkan jumlah pembelian dan frekuensi pelanggan.\n",
        "- Teknologi: Logika Fuzzy untuk menangani ketidakpastian dalam pengambilan keputusan.\n"
      ],
      "metadata": {
        "id": "gIpMC6uM3eZp"
      }
    },
    {
      "cell_type": "markdown",
      "source": [
        "- Variabel Input:\n",
        "  - Jumlah Pembelian (sedikit, sedang, banyak)\n",
        "  - Frekuensi Pelanggan (jarang, sering, sangat sering)\n",
        "- Variabel Output:\n",
        "  - Diskon (kecil, sedang, besar)\n"
      ],
      "metadata": {
        "id": "yk14nIOW3ktK"
      }
    },
    {
      "cell_type": "markdown",
      "source": [
        "- Jumlah Pembelian:\n",
        "  - Sedikit: [0, 0, 5]\n",
        "  - Sedang: [3, 5, 7]\n",
        "  - Banyak: [5, 10, 10]\n",
        "- Frekuensi Pelanggan:\n",
        "  - Jarang: [0, 0, 5]\n",
        "  - Sering: [0, 5, 10]\n",
        "  - Sangat Sering: [5, 10, 10]\n",
        "- Diskon:\n",
        "  - Kecil: [0, 0, 25]\n",
        "  - Sedang: [0, 25, 50]\n",
        "  - Besar: [25, 50, 50]\n"
      ],
      "metadata": {
        "id": "sTBiVsGU33hd"
      }
    },
    {
      "cell_type": "markdown",
      "source": [
        "- Variabel Input:\n",
        "  - Jumlah Pembelian (sedikit, sedang, banyak)\n",
        "  - Frekuensi Pelanggan (jarang, sering, sangat sering)\n",
        "- Variabel Output:\n",
        "  - Diskon (kecil, sedang, besar)\n"
      ],
      "metadata": {
        "id": "efNii4PI3wfJ"
      }
    },
    {
      "cell_type": "markdown",
      "source": [
        "# **2. Sistem Prediksi Tingkat Stres** **Mahasiswal**"
      ],
      "metadata": {
        "id": "GXTFXBszZl-e"
      }
    },
    {
      "cell_type": "markdown",
      "source": [
        "\n",
        "Penjelasan\n",
        "Variabel Input dan Output:\n",
        "\n",
        "Jumlah tugas, lama waktu belajar, dan lama waktu tidur digunakan sebagai input.\n",
        "Tingkat s\n",
        "Himpunan Fuzzy:\n",
        "\n",
        "Dibagi menjadi himpunan \"sedikit\", \"sedang\", dan \"banyak\" untuk setiap masukan.\n",
        "Aturan Fuzzy:\n",
        "\n",
        "Aturan logis didefinisikan untuk mencerminkan hubungan antara input dan output.\n",
        "Prediksi Tingkat Stres:\n",
        "\n",
        "Sistem penghitungan tingkat stres berdasarkan data siswa yang diberikan."
      ],
      "metadata": {
        "id": "_nuSZBjW7cyZ"
      }
    },
    {
      "cell_type": "code",
      "source": [
        "# Import pustaka\n",
        "import numpy as np\n",
        "import skfuzzy as fuzz\n",
        "from skfuzzy import control as ctrl\n",
        "\n",
        "# Data mahasiswa dengan NIM berakhiran 1 dan 6\n",
        "data_mahasiswa = [\n",
        "    {\"nama\": \"Najwan Hidayatullah\", \"kelas\": \"05TPLE018\", \"NIM\": \"221011402857\"},\n",
        "    {\"nama\": \"Thoty Ariesandes\", \"kelas\": \"05TPLE018\", \"NIM\": \"221011403066\"}\n",
        "]\n",
        "\n",
        "# 1. Definisikan Variabel Fuzzy\n",
        "# Input: Jumlah Tugas, Lama Waktu Belajar, Lama Waktu Tidur\n",
        "# Output: Tingkat Stres\n",
        "tugas = ctrl.Antecedent(np.arange(0, 11, 1), 'tugas')\n",
        "belajar = ctrl.Antecedent(np.arange(0, 11, 1), 'belajar')\n",
        "tidur = ctrl.Antecedent(np.arange(0, 11, 1), 'tidur')\n",
        "stres = ctrl.Consequent(np.arange(0, 11, 1), 'stres')\n",
        "\n",
        "# Definisikan himpunan fuzzy untuk setiap variabel\n",
        "# Jumlah Tugas\n",
        "tugas['sedikit'] = fuzz.trimf(tugas.universe, [0, 0, 5])\n",
        "tugas['sedang'] = fuzz.trimf(tugas.universe, [0, 5, 10])\n",
        "tugas['banyak'] = fuzz.trimf(tugas.universe, [5, 10, 10])\n",
        "\n",
        "# Lama Waktu Belajar\n",
        "belajar['pendek'] = fuzz.trimf(belajar.universe, [0, 0, 5])\n",
        "belajar['sedang'] = fuzz.trimf(belajar.universe, [0, 5, 10])\n",
        "belajar['panjang'] = fuzz.trimf(belajar.universe, [5, 10, 10])\n",
        "\n",
        "# Lama Waktu Tidur\n",
        "tidur['kurang'] = fuzz.trimf(tidur.universe, [0, 0, 5])\n",
        "tidur['cukup'] = fuzz.trimf(tidur.universe, [0, 5, 10])\n",
        "tidur['banyak'] = fuzz.trimf(tidur.universe, [5, 10, 10])\n",
        "\n",
        "# Tingkat Stres\n",
        "stres['rendah'] = fuzz.trimf(stres.universe, [0, 0, 5])\n",
        "stres['sedang'] = fuzz.trimf(stres.universe, [0, 5, 10])\n",
        "stres['tinggi'] = fuzz.trimf(stres.universe, [5, 10, 10])\n",
        "\n",
        "# 2. Definisikan Aturan Fuzzy\n",
        "rule1 = ctrl.Rule(tugas['banyak'] & belajar['panjang'] & tidur['kurang'], stres['tinggi'])\n",
        "rule2 = ctrl.Rule(tugas['sedang'] & belajar['sedang'] & tidur['cukup'], stres['sedang'])\n",
        "rule3 = ctrl.Rule(tugas['sedikit'] & belajar['pendek'] & tidur['banyak'], stres['rendah'])\n",
        "\n",
        "# 3. Buat Sistem Kontrol\n",
        "stres_ctrl = ctrl.ControlSystem([rule1, rule2, rule3])\n",
        "stres_simulasi = ctrl.ControlSystemSimulation(stres_ctrl)\n",
        "\n",
        "# 4. Simulasi untuk Data Mahasiswa\n",
        "for mahasiswa in data_mahasiswa:\n",
        "    print(f\"\\nSimulasi untuk {mahasiswa['nama']} (NIM: {mahasiswa['NIM']})\")\n",
        "\n",
        "    # Memasukan nilai (contoh nilai asumsi)\n",
        "    stres_simulasi.input['tugas'] = 7      # Banyak tugas\n",
        "    stres_simulasi.input['belajar'] = 8   # Waktu belajar panjang\n",
        "    stres_simulasi.input['tidur'] = 3     # Tidur kurang\n",
        "\n",
        "    # Proses Inferensi Fuzzy\n",
        "    stres_simulasi.compute()\n",
        "\n",
        "    # Hasil Output\n",
        "    print(f\"Tingkat Stres: {stres_simulasi.output['stres']:.2f}\")\n",
        "\n",
        "\n"
      ],
      "metadata": {
        "colab": {
          "base_uri": "https://localhost:8080/"
        },
        "id": "zaO8Ps5Y622i",
        "outputId": "111ef8b6-e6e9-42ba-d3d2-5645829fef58"
      },
      "execution_count": null,
      "outputs": [
        {
          "output_type": "stream",
          "name": "stdout",
          "text": [
            "\n",
            "Simulasi untuk Najwan Hidayatullah (NIM: 221011402857)\n",
            "Tingkat Stres: 5.48\n",
            "\n",
            "Simulasi untuk Thoty Ariesandes (NIM: 221011403066)\n",
            "Tingkat Stres: 5.48\n"
          ]
        }
      ]
    },
    {
      "source": [
        "import numpy as np\n",
        "import skfuzzy as fuzz\n",
        "from skfuzzy import control as ctrl\n",
        "\n",
        "\n",
        "\n",
        "# Menghitung tingkat stres untuk setiap mahasiswa\n",
        "for mahasiswa in data_mahasiswa:\n",
        "    stres_simulasi.input['jumlah_tugas'] = mahasiswa['tugas']\n",
        "    stres_simulasi.input['lama_belajar'] = mahasiswa['waktuBelajar']\n",
        "    stres_simulasi.input['lama_tidur'] = mahasiswa['waktuTidur']\n",
        "    stres_simulasi.compute()\n",
        "\n",
        "    stres = stres_simulasi.output['tingkat_stres']\n",
        "    print(f\"Nama: {mahasiswa['nama']}, Tingkat Stres: {stres:.2f}\")"
      ],
      "cell_type": "code",
      "metadata": {
        "colab": {
          "base_uri": "https://localhost:8080/"
        },
        "id": "-akoehRj7DB_",
        "outputId": "8ac79aee-7685-430d-d4a2-f6eb4a126411"
      },
      "execution_count": null,
      "outputs": [
        {
          "output_type": "stream",
          "name": "stdout",
          "text": [
            "Nama: Zein Albi Gunawan, Tingkat Stres: 8.37\n",
            "Nama: Yoga Febi Atmaja, Tingkat Stres: 8.19\n",
            "Nama: Najwan Hidayatullah, Tingkat Stres: 8.19\n",
            "Nama: Thoty Ariesandes, Tingkat Stres: 8.31\n",
            "Nama: Ahmad Fauzi, Tingkat Stres: 4.58\n"
          ]
        }
      ]
    },
    {
      "cell_type": "markdown",
      "source": [
        "# **3. Sistem Pengaturan AC Otomatis**"
      ],
      "metadata": {
        "id": "MfQYuMT-Y7JQ"
      }
    },
    {
      "cell_type": "code",
      "source": [
        "import numpy as np\n",
        "import skfuzzy as fuzz\n",
        "from skfuzzy import control as ctrl\n",
        "\n",
        "# 1. Variabel dan Himpunan Fuzzy\n",
        "\n",
        "# Input: Suhu Ruangan (SR)\n",
        "suhu = ctrl.Antecedent(np.arange(20, 36, 1), 'suhu') # Rentang 20-35°C\n",
        "suhu['dingin'] = fuzz.trimf(suhu.universe, [20, 20, 24])\n",
        "suhu['normal'] = fuzz.trimf(suhu.universe, [24, 26, 28])\n",
        "suhu['panas'] = fuzz.trimf(suhu.universe, [28, 35, 35])\n",
        "\n",
        "# Input: Kelembapan (KL)\n",
        "kelembapan = ctrl.Antecedent(np.arange(40, 81, 1), 'kelembapan') # Rentang 40-80%\n",
        "kelembapan['kering'] = fuzz.trimf(kelembapan.universe, [40, 40, 50])\n",
        "kelembapan['lembab'] = fuzz.trimf(kelembapan.universe, [50, 80, 80])\n",
        "\n",
        "# Output: Kecepatan Kipas (KK)\n",
        "kecepatan = ctrl.Consequent(np.arange(0, 101, 1), 'kecepatan') # Rentang 0-100%\n",
        "kecepatan['rendah'] = fuzz.trimf(kecepatan.universe, [0, 0, 33])\n",
        "kecepatan['sedang'] = fuzz.trimf(kecepatan.universe, [33, 50, 66])\n",
        "kecepatan['tinggi'] = fuzz.trimf(kecepatan.universe, [66, 100, 100])\n",
        "\n",
        "\n",
        "# 2. Aturan (Rules)\n",
        "\n",
        "rule1 = ctrl.Rule(suhu['dingin'] & kelembapan['kering'], kecepatan['rendah'])\n",
        "rule2 = ctrl.Rule(suhu['dingin'] & kelembapan['lembab'], kecepatan['sedang'])\n",
        "rule3 = ctrl.Rule(suhu['normal'] & kelembapan['kering'], kecepatan['sedang'])\n",
        "rule4 = ctrl.Rule(suhu['normal'] & kelembapan['lembab'], kecepatan['tinggi'])\n",
        "rule5 = ctrl.Rule(suhu['panas'] & kelembapan['kering'], kecepatan['tinggi'])\n",
        "rule6 = ctrl.Rule(suhu['panas'] & kelembapan['lembab'], kecepatan['tinggi'])\n",
        "\n",
        "# 3. Sistem Kontrol Fuzzy\n",
        "\n",
        "kecepatan_ctrl = ctrl.ControlSystem([rule1, rule2, rule3, rule4, rule5, rule6])\n",
        "kecepatan_simulasi = ctrl.ControlSystemSimulation(kecepatan_ctrl)\n",
        "\n",
        "# 4. Penggunaan Sistem\n",
        "\n",
        "# Input Nilai Suhu dan Kelembapan\n",
        "suhu_input = 27\n",
        "kelembapan_input = 60\n",
        "\n",
        "# Proses Fuzzy Inference\n",
        "kecepatan_simulasi.input['suhu'] = suhu_input\n",
        "kecepatan_simulasi.input['kelembapan'] = kelembapan_input\n",
        "kecepatan_simulasi.compute()\n",
        "\n",
        "# Output Kecepatan Kipas\n",
        "kecepatan_output = kecepatan_simulasi.output['kecepatan']\n",
        "print(f\"Suhu: {suhu_input}°C\")\n",
        "print(f\"Kelembapan: {kelembapan_input}%\")\n",
        "print(f\"Kecepatan Kipas: {kecepatan_output:.2f}%\")\n",
        "\n"
      ],
      "metadata": {
        "colab": {
          "base_uri": "https://localhost:8080/"
        },
        "id": "xHRCrKWdLdwK",
        "outputId": "a6ed6302-ae77-478a-da80-598c9612df12"
      },
      "execution_count": null,
      "outputs": [
        {
          "output_type": "stream",
          "name": "stdout",
          "text": [
            "Suhu: 27°C\n",
            "Kelembapan: 60%\n",
            "Kecepatan Kipas: 85.64%\n"
          ]
        }
      ]
    },
    {
      "cell_type": "code",
      "source": [],
      "metadata": {
        "id": "nDSbedN9YgSE"
      },
      "execution_count": null,
      "outputs": []
    },
    {
      "cell_type": "markdown",
      "source": [
        "# **4. Sistem Penilaian Kelayakan Kredit**"
      ],
      "metadata": {
        "id": "4lsJo9jhYhSM"
      }
    },
    {
      "cell_type": "code",
      "source": [
        "import numpy as np\n",
        "import skfuzzy as fuzz\n",
        "from skfuzzy import control as ctrl\n",
        "\n",
        "# Variabel\n",
        "pendapatan = ctrl.Antecedent(np.arange(1, 11, 1), 'pendapatan') # Dalam jutaan Rp\n",
        "utang = ctrl.Antecedent(np.arange(0, 6, 1), 'utang') # Dalam jutaan Rp\n",
        "riwayat = ctrl.Antecedent(np.arange(0, 101, 1), 'riwayat')\n",
        "kelayakan = ctrl.Consequent(np.arange(0, 101, 1), 'kelayakan')\n",
        "\n",
        "# Himpunan Fuzzy\n",
        "pendapatan['rendah'] = fuzz.trimf(pendapatan.universe, [1, 1, 3])\n",
        "pendapatan['menengah'] = fuzz.trimf(pendapatan.universe, [3, 4.5, 6])\n",
        "pendapatan['tinggi'] = fuzz.trimf(pendapatan.universe, [6, 10, 10])\n",
        "\n",
        "utang['sedikit'] = fuzz.trimf(utang.universe, [0, 0, 1])\n",
        "utang['sedang'] = fuzz.trimf(utang.universe, [1, 2, 3])\n",
        "utang['banyak'] = fuzz.trimf(utang.universe, [3, 5, 5])\n",
        "\n",
        "riwayat['buruk'] = fuzz.trimf(riwayat.universe, [0, 0, 40])\n",
        "riwayat['cukup'] = fuzz.trimf(riwayat.universe, [40, 55, 70])\n",
        "riwayat['baik'] = fuzz.trimf(riwayat.universe, [70, 100, 100])\n",
        "\n",
        "kelayakan['tidak_layak'] = fuzz.trimf(kelayakan.universe, [0, 0, 40])\n",
        "kelayakan['dipertimbangkan'] = fuzz.trimf(kelayakan.universe, [40, 55, 70])\n",
        "kelayakan['layak'] = fuzz.trimf(kelayakan.universe, [70, 100, 100])\n",
        "\n",
        "# Aturan (Semua Aturan Dimasukkan)\n",
        "rule1 = ctrl.Rule(pendapatan['rendah'] & utang['banyak'] & riwayat['buruk'], kelayakan['tidak_layak'])\n",
        "rule2 = ctrl.Rule(pendapatan['rendah'] & utang['banyak'] & riwayat['cukup'], kelayakan['tidak_layak'])\n",
        "rule3 = ctrl.Rule(pendapatan['rendah'] & utang['banyak'] & riwayat['baik'], kelayakan['tidak_layak'])\n",
        "rule4 = ctrl.Rule(pendapatan['rendah'] & utang['sedang'] & riwayat['buruk'], kelayakan['tidak_layak'])\n",
        "rule5 = ctrl.Rule(pendapatan['rendah'] & utang['sedang'] & riwayat['cukup'], kelayakan['dipertimbangkan'])\n",
        "rule6 = ctrl.Rule(pendapatan['rendah'] & utang['sedang'] & riwayat['baik'], kelayakan['dipertimbangkan'])\n",
        "rule7 = ctrl.Rule(pendapatan['rendah'] & utang['sedikit'] & riwayat['buruk'], kelayakan['dipertimbangkan'])\n",
        "rule8 = ctrl.Rule(pendapatan['rendah'] & utang['sedikit'] & riwayat['cukup'], kelayakan['dipertimbangkan']) #Diperbaiki, sebelumnya 'layak'\n",
        "rule9 = ctrl.Rule(pendapatan['rendah'] & utang['sedikit'] & riwayat['baik'], kelayakan['layak'])\n",
        "\n",
        "rule10 = ctrl.Rule(pendapatan['menengah'] & utang['banyak'] & riwayat['buruk'], kelayakan['tidak_layak'])\n",
        "rule11 = ctrl.Rule(pendapatan['menengah'] & utang['banyak'] & riwayat['cukup'], kelayakan['dipertimbangkan']) #Diperbaiki, sebelumnya 'tidak layak'\n",
        "rule12 = ctrl.Rule(pendapatan['menengah'] & utang['banyak'] & riwayat['baik'], kelayakan['dipertimbangkan'])\n",
        "rule13 = ctrl.Rule(pendapatan['menengah'] & utang['sedang'] & riwayat['buruk'], kelayakan['tidak_layak'])\n",
        "rule14 = ctrl.Rule(pendapatan['menengah'] & utang['sedang'] & riwayat['cukup'], kelayakan['dipertimbangkan'])\n",
        "rule15 = ctrl.Rule(pendapatan['menengah'] & utang['sedang'] & riwayat['baik'], kelayakan['layak'])\n",
        "rule16 = ctrl.Rule(pendapatan['menengah'] & utang['sedikit'] & riwayat['buruk'], kelayakan['dipertimbangkan'])\n",
        "rule17 = ctrl.Rule(pendapatan['menengah'] & utang['sedikit'] & riwayat['cukup'], kelayakan['layak'])\n",
        "rule18 = ctrl.Rule(pendapatan['menengah'] & utang['sedikit'] & riwayat['baik'], kelayakan['layak'])\n",
        "\n",
        "rule19 = ctrl.Rule(pendapatan['tinggi'] & utang['banyak'] & riwayat['buruk'], kelayakan['dipertimbangkan']) #Diperbaiki, sebelumnya 'tidak layak'\n",
        "rule20 = ctrl.Rule(pendapatan['tinggi'] & utang['banyak'] & riwayat['cukup'], kelayakan['layak']) #Diperbaiki, sebelumnya 'dipertimbangkan'\n",
        "rule21 = ctrl.Rule(pendapatan['tinggi'] & utang['banyak'] & riwayat['baik'], kelayakan['layak'])\n",
        "rule22 = ctrl.Rule(pendapatan['tinggi'] & utang['sedang'] & riwayat['buruk'], kelayakan['dipertimbangkan'])\n",
        "rule23 = ctrl.Rule(pendapatan['tinggi'] & utang['sedang'] & riwayat['cukup'], kelayakan['layak'])\n",
        "rule24 = ctrl.Rule(pendapatan['tinggi'] & utang['sedang'] & riwayat['baik'], kelayakan['layak'])\n",
        "rule25 = ctrl.Rule(pendapatan['tinggi'] & utang['sedikit'] & riwayat['buruk'], kelayakan['layak'])\n",
        "rule26 = ctrl.Rule(pendapatan['tinggi'] & utang['sedikit'] & riwayat['cukup'], kelayakan['layak'])\n",
        "rule27 = ctrl.Rule(pendapatan['tinggi'] & utang['sedikit'] & riwayat['baik'], kelayakan['layak'])\n",
        "\n",
        "# Sistem Kontrol (Semua Aturan)\n",
        "kelayakan_ctrl = ctrl.ControlSystem([rule1, rule2, rule3, rule4, rule5, rule6, rule7, rule8, rule9, rule10,\n",
        "                                    rule11, rule12, rule13, rule14, rule15, rule16, rule17, rule18, rule19,\n",
        "                                    rule20, rule21, rule22, rule23, rule24, rule25, rule26, rule27])\n",
        "\n",
        "kelayakan_simulasi = ctrl.ControlSystemSimulation(kelayakan_ctrl)\n",
        "\n",
        "# Input dan Output\n",
        "pendapatan_input = 4  # Rp 4.000.000\n",
        "utang_input = 2  # Rp 2.000.000\n",
        "riwayat_input = 80\n",
        "kelayakan_simulasi.input['pendapatan'] = pendapatan_input\n",
        "kelayakan_simulasi.input['utang'] = utang_input\n",
        "kelayakan_simulasi.input['riwayat'] = riwayat_input\n",
        "kelayakan_simulasi.compute()\n",
        "kelayakan_output = kelayakan_simulasi.output['kelayakan']\n",
        "\n",
        "print(f\"Pendapatan: Rp {pendapatan_input * 1000000}\")\n",
        "print(f\"Utang: Rp {utang_input * 1000000}\")\n",
        "print(f\"Riwayat Kredit: {riwayat_input}\")\n",
        "print(f\"Kelayakan Kredit: {kelayakan_output:.2f}\")\n",
        "\n"
      ],
      "metadata": {
        "colab": {
          "base_uri": "https://localhost:8080/"
        },
        "id": "-ouBvRwVM0L8",
        "outputId": "1a7bf28d-8e82-46e6-d195-94d787795a71"
      },
      "execution_count": null,
      "outputs": [
        {
          "output_type": "stream",
          "name": "stdout",
          "text": [
            "Pendapatan: Rp 4000000\n",
            "Utang: Rp 2000000\n",
            "Riwayat Kredit: 80\n",
            "Kelayakan Kredit: 87.33\n"
          ]
        }
      ]
    },
    {
      "cell_type": "markdown",
      "source": [
        "**5.\tSistem Penentuan Tingkat Kebahagiaan Pelanggan di Restoran**"
      ],
      "metadata": {
        "id": "Tyj_OyoPTsYS"
      }
    },
    {
      "source": [
        "import numpy as np\n",
        "import skfuzzy as fuzz\n",
        "from skfuzzy import control as ctrl\n",
        "\n",
        "# ... (Kode untuk mendefinisikan variabel, himpunan fuzzy, dan aturan tetap sama) ...\n",
        "\n",
        "# Data Pelanggan (dalam bentuk list of dictionaries)\n",
        "data_pelanggan = [\n",
        "    {'kecepatan': 7, 'kualitas': 8, 'harga': 4},\n",
        "    {'kecepatan': 3, 'kualitas': 5, 'harga': 9},\n",
        "    # ... tambahkan data pelanggan lainnya di sini ...\n",
        "]\n",
        "\n",
        "# Fungsi untuk memproses data dan menampilkan hasil\n",
        "def proses_data(kecepatan, kualitas, harga):\n",
        "    kepuasan_simulasi.input['kecepatan'] = kecepatan\n",
        "    kepuasan_simulasi.input['kualitas'] = kualitas\n",
        "    kepuasan_simulasi.input['harga'] = harga\n",
        "    kepuasan_simulasi.compute()\n",
        "    print(f\"Data Pelanggan: kecepatan={kecepatan}, kualitas={kualitas}, harga={harga}\")\n",
        "    print(f\"Tingkat Kepuasan: {kepuasan_simulasi.output['kepuasan']:.2f}\\n\")\n",
        "\n",
        "# Pilihan mode input\n",
        "mode = input(\"Pilih mode input (otomatis/manual): \").lower()\n",
        "\n",
        "if mode == \"otomatis\":\n",
        "    # Proses data pelanggan yang sudah ada\n",
        "    for pelanggan in data_pelanggan:\n",
        "        proses_data(pelanggan['kecepatan'], pelanggan['kualitas'], pelanggan['harga'])\n",
        "elif mode == \"manual\":\n",
        "    # Input data secara manual\n",
        "    while True:\n",
        "        try:\n",
        "            kecepatan = int(input(\"Masukkan kecepatan pelayanan (0-10): \"))\n",
        "            kualitas = int(input(\"Masukkan kualitas makanan (0-10): \"))\n",
        "            harga = int(input(\"Masukkan harga makanan (0-10): \"))\n",
        "\n",
        "            if 0 <= kecepatan <= 10 and 0 <= kualitas <= 10 and 0 <= harga <= 10:\n",
        "                proses_data(kecepatan, kualitas, harga)\n",
        "                break  # Keluar dari loop jika input valid\n",
        "            else:\n",
        "                print(\"Input tidak valid. Nilai harus dalam rentang 0-10.\")\n",
        "        except ValueError:\n",
        "            print(\"Input tidak valid. Masukkan angka.\")\n",
        "else:\n",
        "    print(\"Mode input tidak valid.\") # ketik  manuak untuk menginput manual"
      ],
      "cell_type": "code",
      "metadata": {
        "colab": {
          "base_uri": "https://localhost:8080/"
        },
        "id": "JMovL8xEUidd",
        "outputId": "2b35670b-d552-4c52-c0c4-aadda975b3c5"
      },
      "execution_count": null,
      "outputs": [
        {
          "output_type": "stream",
          "name": "stdout",
          "text": [
            "Pilih mode input (otomatis/manual): manual\n",
            "Masukkan kecepatan pelayanan (0-10): 0\n",
            "Masukkan kualitas makanan (0-10): 0\n",
            "Masukkan harga makanan (0-10): 0\n",
            "Data Pelanggan: kecepatan=0, kualitas=0, harga=0\n",
            "Tingkat Kepuasan: 1.67\n",
            "\n"
          ]
        }
      ]
    },
    {
      "cell_type": "markdown",
      "source": [
        "# **5.\tSistem Penentuan Tingkat Kebahagiaan Pelanggan di Restoran**"
      ],
      "metadata": {
        "id": "dd4DCbk6aDEC"
      }
    }
  ]
}